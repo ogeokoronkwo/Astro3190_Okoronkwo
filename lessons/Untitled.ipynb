{
 "cells": [
  {
   "cell_type": "code",
   "execution_count": null,
   "id": "broadband-radical",
   "metadata": {},
   "outputs": [],
   "source": [
    "whoami\n",
    "pwd\n",
    "`pwd`\n",
    "cd ~/PreMAPOG/lessons/UnixIntro\n",
    "%%bash\n",
    "ls\n",
    "mv 00-unix_lastname.ipynb 00-unix_okoronkwo.ipynb\n"
   ]
  }
 ],
 "metadata": {
  "kernelspec": {
   "display_name": "Python 3",
   "language": "python",
   "name": "python3"
  },
  "language_info": {
   "codemirror_mode": {
    "name": "ipython",
    "version": 3
   },
   "file_extension": ".py",
   "mimetype": "text/x-python",
   "name": "python",
   "nbconvert_exporter": "python",
   "pygments_lexer": "ipython3",
   "version": "3.9.1"
  }
 },
 "nbformat": 4,
 "nbformat_minor": 5
}
